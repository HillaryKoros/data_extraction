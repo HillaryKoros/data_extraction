{
 "cells": [
  {
   "cell_type": "markdown",
   "metadata": {
    "pycharm": {
     "name": "#%% md\n"
    }
   },
   "source": [
    "## Retrieving data from OpenStreetMap\n",
    "\n",
    " OpenStreetMap (OSM) is probably the most well known and widely used spatial dataset/database in the world. Let's see how we can retrieve data from OSM using a library called [omsnx](https://osmnx.readthedocs.io/). With `osmnx` you can easily download and extract data from anywhere in the world based on the [Overpass API](https://dev.overpass-api.de/overpass-doc/en/preface/preface.html). You can use `osmnx` e.g. to retrieve OSM data around a given address and applying a  2 km buffer around this location. Hence, `osmnx` is a very flexible library in terms of specifying the area of interest. \n",
    "\n",
    "OSM is a \"database of the world\", hence it contains **a lot** of information about different things. With `osmnx` you can easily extract information about:\n",
    "\n",
    "- street networks --> `ox.graph_from_place(query)` | `ox.graph_from_polygon(polygon)`\n",
    "- buildings --> `ox.features_from_place(query, tags={\"buildings\": True})` | `ox.features_from_polygon(polygon, tags={\"buildings\": True})`\n",
    "- Amenities --> `ox.features_from_place(query, tags={\"amenity\": True})` | `ox.features_from_polygon(polygon, tags={\"amenity\": True})`\n",
    "- landuse --> `ox.features_from_place(query, tags={\"landuse\": True})` | `ox.features_from_polygon(polygon, tags={\"landuse\": True})`\n",
    "- natural elements --> `ox.features_from_place(query, tags={\"natural\": True})` | `ox.features_from_polygon(polygon, tags={\"natural\": True})`\n",
    "- boundaries --> `ox.features_from_place(query, tags={\"boundary\": True})` | `ox.features_from_polygon(polygon, tags={\"boundary\": True})`\n",
    "\n",
    "Let's see how we can download and extract OSM data about buildings for Nairobi central area using `osmnx`:"
   ]
  },
  {
   "cell_type": "code",
   "execution_count": 36,
   "metadata": {
    "tags": []
   },
   "outputs": [],
   "source": [
    "import osmnx as ox\n",
    "import geopandas as gpd\n",
    "from shapely.geometry import box\n"
   ]
  }
 ],
 "metadata": {
  "kernelspec": {
   "display_name": "Python 3 (ipykernel)",
   "language": "python",
   "name": "python3"
  },
  "language_info": {
   "codemirror_mode": {
    "name": "ipython",
    "version": 3
   },
   "file_extension": ".py",
   "mimetype": "text/x-python",
   "name": "python",
   "nbconvert_exporter": "python",
   "pygments_lexer": "ipython3",
   "version": "3.11.9"
  },
  "pycharm": {
   "stem_cell": {
    "cell_type": "raw",
    "metadata": {
     "collapsed": false
    },
    "source": []
   }
  }
 },
 "nbformat": 4,
 "nbformat_minor": 4
}
